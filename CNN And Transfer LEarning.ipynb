{
 "cells": [
  {
   "cell_type": "code",
   "execution_count": 13,
   "metadata": {},
   "outputs": [],
   "source": [
    "from tensorflow.keras.layers import Input, Lambda, Dense, Flatten,Conv2D\n",
    "from tensorflow.keras.models import Model\n",
    "from tensorflow.keras.applications.vgg19 import VGG19\n",
    "from tensorflow.keras.applications.resnet50 import preprocess_input\n",
    "from tensorflow.keras.preprocessing import image\n",
    "from tensorflow.keras.preprocessing.image import ImageDataGenerator,load_img\n",
    "from tensorflow.keras.models import Sequential\n",
    "import numpy as np\n",
    "from glob import glob\n",
    "import matplotlib.pyplot as plt"
   ]
  },
  {
   "cell_type": "code",
   "execution_count": 14,
   "metadata": {},
   "outputs": [
    {
     "name": "stdout",
     "output_type": "stream",
     "text": [
      "2.4.1\n"
     ]
    }
   ],
   "source": [
    "print(tf.__version__)"
   ]
  },
  {
   "cell_type": "code",
   "execution_count": 15,
   "metadata": {},
   "outputs": [],
   "source": [
    "IMAGE_SIZE = [224, 224]\n",
    "\n",
    "train_path = 'Dataset/Train/'\n",
    "valid_path = 'Dataset/Test'"
   ]
  },
  {
   "cell_type": "code",
   "execution_count": 16,
   "metadata": {},
   "outputs": [
    {
     "name": "stdout",
     "output_type": "stream",
     "text": [
      "Downloading data from https://storage.googleapis.com/tensorflow/keras-applications/vgg19/vgg19_weights_tf_dim_ordering_tf_kernels_notop.h5\n",
      "80142336/80134624 [==============================] - 231s 3us/step\n"
     ]
    }
   ],
   "source": [
    "mobilnet = VGG19(input_shape=IMAGE_SIZE + [3], weights='imagenet', include_top=False)\n"
   ]
  },
  {
   "cell_type": "code",
   "execution_count": 17,
   "metadata": {},
   "outputs": [],
   "source": [
    "for layer in mobilnet.layers:\n",
    "    layer.trainable = False"
   ]
  },
  {
   "cell_type": "code",
   "execution_count": 18,
   "metadata": {},
   "outputs": [],
   "source": [
    "folders = glob('Dataset/Train/*')\n"
   ]
  },
  {
   "cell_type": "code",
   "execution_count": 19,
   "metadata": {},
   "outputs": [
    {
     "data": {
      "text/plain": [
       "['Dataset/Train/Parasite', 'Dataset/Train/Uninfected']"
      ]
     },
     "execution_count": 19,
     "metadata": {},
     "output_type": "execute_result"
    }
   ],
   "source": [
    "folders"
   ]
  },
  {
   "cell_type": "code",
   "execution_count": 20,
   "metadata": {},
   "outputs": [],
   "source": [
    "x = Flatten()(mobilnet.output)\n"
   ]
  },
  {
   "cell_type": "code",
   "execution_count": 21,
   "metadata": {},
   "outputs": [],
   "source": [
    "prediction = Dense(len(folders), activation='softmax')(x)\n",
    "\n",
    "model = Model(inputs=mobilnet.input, outputs=prediction)"
   ]
  },
  {
   "cell_type": "code",
   "execution_count": 22,
   "metadata": {},
   "outputs": [
    {
     "name": "stdout",
     "output_type": "stream",
     "text": [
      "Model: \"model\"\n",
      "_________________________________________________________________\n",
      "Layer (type)                 Output Shape              Param #   \n",
      "=================================================================\n",
      "input_1 (InputLayer)         [(None, 224, 224, 3)]     0         \n",
      "_________________________________________________________________\n",
      "block1_conv1 (Conv2D)        (None, 224, 224, 64)      1792      \n",
      "_________________________________________________________________\n",
      "block1_conv2 (Conv2D)        (None, 224, 224, 64)      36928     \n",
      "_________________________________________________________________\n",
      "block1_pool (MaxPooling2D)   (None, 112, 112, 64)      0         \n",
      "_________________________________________________________________\n",
      "block2_conv1 (Conv2D)        (None, 112, 112, 128)     73856     \n",
      "_________________________________________________________________\n",
      "block2_conv2 (Conv2D)        (None, 112, 112, 128)     147584    \n",
      "_________________________________________________________________\n",
      "block2_pool (MaxPooling2D)   (None, 56, 56, 128)       0         \n",
      "_________________________________________________________________\n",
      "block3_conv1 (Conv2D)        (None, 56, 56, 256)       295168    \n",
      "_________________________________________________________________\n",
      "block3_conv2 (Conv2D)        (None, 56, 56, 256)       590080    \n",
      "_________________________________________________________________\n",
      "block3_conv3 (Conv2D)        (None, 56, 56, 256)       590080    \n",
      "_________________________________________________________________\n",
      "block3_conv4 (Conv2D)        (None, 56, 56, 256)       590080    \n",
      "_________________________________________________________________\n",
      "block3_pool (MaxPooling2D)   (None, 28, 28, 256)       0         \n",
      "_________________________________________________________________\n",
      "block4_conv1 (Conv2D)        (None, 28, 28, 512)       1180160   \n",
      "_________________________________________________________________\n",
      "block4_conv2 (Conv2D)        (None, 28, 28, 512)       2359808   \n",
      "_________________________________________________________________\n",
      "block4_conv3 (Conv2D)        (None, 28, 28, 512)       2359808   \n",
      "_________________________________________________________________\n",
      "block4_conv4 (Conv2D)        (None, 28, 28, 512)       2359808   \n",
      "_________________________________________________________________\n",
      "block4_pool (MaxPooling2D)   (None, 14, 14, 512)       0         \n",
      "_________________________________________________________________\n",
      "block5_conv1 (Conv2D)        (None, 14, 14, 512)       2359808   \n",
      "_________________________________________________________________\n",
      "block5_conv2 (Conv2D)        (None, 14, 14, 512)       2359808   \n",
      "_________________________________________________________________\n",
      "block5_conv3 (Conv2D)        (None, 14, 14, 512)       2359808   \n",
      "_________________________________________________________________\n",
      "block5_conv4 (Conv2D)        (None, 14, 14, 512)       2359808   \n",
      "_________________________________________________________________\n",
      "block5_pool (MaxPooling2D)   (None, 7, 7, 512)         0         \n",
      "_________________________________________________________________\n",
      "flatten (Flatten)            (None, 25088)             0         \n",
      "_________________________________________________________________\n",
      "dense (Dense)                (None, 2)                 50178     \n",
      "=================================================================\n",
      "Total params: 20,074,562\n",
      "Trainable params: 50,178\n",
      "Non-trainable params: 20,024,384\n",
      "_________________________________________________________________\n"
     ]
    }
   ],
   "source": [
    "model.summary()\n"
   ]
  },
  {
   "cell_type": "code",
   "execution_count": 23,
   "metadata": {},
   "outputs": [],
   "source": [
    "from tensorflow.keras.layers import MaxPooling2D\n"
   ]
  },
  {
   "cell_type": "code",
   "execution_count": 24,
   "metadata": {},
   "outputs": [
    {
     "name": "stdout",
     "output_type": "stream",
     "text": [
      "Model: \"sequential\"\n",
      "_________________________________________________________________\n",
      "Layer (type)                 Output Shape              Param #   \n",
      "=================================================================\n",
      "conv2d (Conv2D)              (None, 224, 224, 16)      208       \n",
      "_________________________________________________________________\n",
      "max_pooling2d (MaxPooling2D) (None, 112, 112, 16)      0         \n",
      "_________________________________________________________________\n",
      "conv2d_1 (Conv2D)            (None, 112, 112, 32)      2080      \n",
      "_________________________________________________________________\n",
      "max_pooling2d_1 (MaxPooling2 (None, 56, 56, 32)        0         \n",
      "_________________________________________________________________\n",
      "conv2d_2 (Conv2D)            (None, 56, 56, 64)        8256      \n",
      "_________________________________________________________________\n",
      "max_pooling2d_2 (MaxPooling2 (None, 28, 28, 64)        0         \n",
      "_________________________________________________________________\n",
      "flatten_1 (Flatten)          (None, 50176)             0         \n",
      "_________________________________________________________________\n",
      "dense_1 (Dense)              (None, 500)               25088500  \n",
      "_________________________________________________________________\n",
      "dense_2 (Dense)              (None, 2)                 1002      \n",
      "=================================================================\n",
      "Total params: 25,100,046\n",
      "Trainable params: 25,100,046\n",
      "Non-trainable params: 0\n",
      "_________________________________________________________________\n"
     ]
    }
   ],
   "source": [
    "model=Sequential()\n",
    "model.add(Conv2D(filters=16,kernel_size=2,padding=\"same\",activation=\"relu\",input_shape=(224,224,3)))\n",
    "model.add(MaxPooling2D(pool_size=2))\n",
    "model.add(Conv2D(filters=32,kernel_size=2,padding=\"same\",activation =\"relu\"))\n",
    "model.add(MaxPooling2D(pool_size=2))\n",
    "model.add(Conv2D(filters=64,kernel_size=2,padding=\"same\",activation=\"relu\"))\n",
    "model.add(MaxPooling2D(pool_size=2))\n",
    "model.add(Flatten())\n",
    "model.add(Dense(500,activation=\"relu\"))\n",
    "model.add(Dense(2,activation=\"softmax\"))\n",
    "model.summary()"
   ]
  },
  {
   "cell_type": "code",
   "execution_count": 25,
   "metadata": {},
   "outputs": [],
   "source": [
    "model.compile(\n",
    "  loss='categorical_crossentropy',\n",
    "  optimizer='adam',\n",
    "  metrics=['accuracy']\n",
    ")"
   ]
  },
  {
   "cell_type": "code",
   "execution_count": 26,
   "metadata": {},
   "outputs": [],
   "source": [
    "from tensorflow.keras.preprocessing.image import ImageDataGenerator\n",
    "\n",
    "train_datagen = ImageDataGenerator(rescale = 1./255,\n",
    "                                   shear_range = 0.2,\n",
    "                                   zoom_range = 0.2,\n",
    "                                   horizontal_flip = True)\n",
    "\n",
    "test_datagen = ImageDataGenerator(rescale = 1./255)"
   ]
  },
  {
   "cell_type": "code",
   "execution_count": 27,
   "metadata": {},
   "outputs": [
    {
     "name": "stdout",
     "output_type": "stream",
     "text": [
      "Found 416 images belonging to 2 classes.\n"
     ]
    }
   ],
   "source": [
    "training_set = train_datagen.flow_from_directory('Dataset/Train',\n",
    "                                                 target_size = (224, 224),\n",
    "                                                 batch_size = 32,\n",
    "                                                 class_mode = 'categorical')"
   ]
  },
  {
   "cell_type": "code",
   "execution_count": 28,
   "metadata": {},
   "outputs": [
    {
     "data": {
      "text/plain": [
       "<tensorflow.python.keras.preprocessing.image.DirectoryIterator at 0x7f4a47a54160>"
      ]
     },
     "execution_count": 28,
     "metadata": {},
     "output_type": "execute_result"
    }
   ],
   "source": [
    "training_set\n"
   ]
  },
  {
   "cell_type": "code",
   "execution_count": 29,
   "metadata": {},
   "outputs": [
    {
     "name": "stdout",
     "output_type": "stream",
     "text": [
      "Found 134 images belonging to 2 classes.\n"
     ]
    }
   ],
   "source": [
    "test_set = test_datagen.flow_from_directory('Dataset/Test',\n",
    "                                            target_size = (224, 224),\n",
    "                                            batch_size = 32,\n",
    "                                            class_mode = 'categorical')"
   ]
  },
  {
   "cell_type": "code",
   "execution_count": 31,
   "metadata": {},
   "outputs": [
    {
     "name": "stderr",
     "output_type": "stream",
     "text": [
      "/home/prompt/anaconda3/lib/python3.8/site-packages/tensorflow/python/keras/engine/training.py:1844: UserWarning: `Model.fit_generator` is deprecated and will be removed in a future version. Please use `Model.fit`, which supports generators.\n",
      "  warnings.warn('`Model.fit_generator` is deprecated and '\n"
     ]
    },
    {
     "name": "stdout",
     "output_type": "stream",
     "text": [
      "Epoch 1/50\n",
      "13/13 [==============================] - 15s 1s/step - loss: 4.3382 - accuracy: 0.5455 - val_loss: 1.0424 - val_accuracy: 0.3582\n",
      "Epoch 2/50\n",
      "13/13 [==============================] - 14s 1s/step - loss: 0.6902 - accuracy: 0.6147 - val_loss: 0.7764 - val_accuracy: 0.4478\n",
      "Epoch 3/50\n",
      "13/13 [==============================] - 14s 1s/step - loss: 0.5250 - accuracy: 0.7255 - val_loss: 0.9349 - val_accuracy: 0.3433\n",
      "Epoch 4/50\n",
      "13/13 [==============================] - 15s 1s/step - loss: 0.4149 - accuracy: 0.8106 - val_loss: 1.0304 - val_accuracy: 0.4179\n",
      "Epoch 5/50\n",
      "13/13 [==============================] - 14s 1s/step - loss: 0.3836 - accuracy: 0.8110 - val_loss: 0.8146 - val_accuracy: 0.4478\n",
      "Epoch 6/50\n",
      "13/13 [==============================] - 14s 1s/step - loss: 0.3794 - accuracy: 0.8338 - val_loss: 0.9580 - val_accuracy: 0.4627\n",
      "Epoch 7/50\n",
      "13/13 [==============================] - 14s 1s/step - loss: 0.3754 - accuracy: 0.8177 - val_loss: 0.7278 - val_accuracy: 0.5149\n",
      "Epoch 8/50\n",
      "13/13 [==============================] - 15s 1s/step - loss: 0.3398 - accuracy: 0.8653 - val_loss: 0.6337 - val_accuracy: 0.5821\n",
      "Epoch 9/50\n",
      "13/13 [==============================] - 14s 1s/step - loss: 0.3298 - accuracy: 0.8710 - val_loss: 0.8834 - val_accuracy: 0.5597\n",
      "Epoch 10/50\n",
      "13/13 [==============================] - 14s 1s/step - loss: 0.2945 - accuracy: 0.8663 - val_loss: 0.5398 - val_accuracy: 0.6343\n",
      "Epoch 11/50\n",
      "13/13 [==============================] - 14s 1s/step - loss: 0.2408 - accuracy: 0.9177 - val_loss: 0.7191 - val_accuracy: 0.6269\n",
      "Epoch 12/50\n",
      "13/13 [==============================] - 14s 1s/step - loss: 0.2183 - accuracy: 0.9168 - val_loss: 0.4971 - val_accuracy: 0.7015\n",
      "Epoch 13/50\n",
      "13/13 [==============================] - 14s 1s/step - loss: 0.1971 - accuracy: 0.9322 - val_loss: 0.8017 - val_accuracy: 0.6493\n",
      "Epoch 14/50\n",
      "13/13 [==============================] - 14s 1s/step - loss: 0.1773 - accuracy: 0.9263 - val_loss: 0.4410 - val_accuracy: 0.7388\n",
      "Epoch 15/50\n",
      "13/13 [==============================] - 15s 1s/step - loss: 0.1402 - accuracy: 0.9585 - val_loss: 0.4084 - val_accuracy: 0.7910\n",
      "Epoch 16/50\n",
      "13/13 [==============================] - 14s 1s/step - loss: 0.1699 - accuracy: 0.9599 - val_loss: 0.3787 - val_accuracy: 0.8060\n",
      "Epoch 17/50\n",
      "13/13 [==============================] - 15s 1s/step - loss: 0.1275 - accuracy: 0.9659 - val_loss: 0.3973 - val_accuracy: 0.8209\n",
      "Epoch 18/50\n",
      "13/13 [==============================] - 14s 1s/step - loss: 0.0971 - accuracy: 0.9634 - val_loss: 0.4579 - val_accuracy: 0.7910\n",
      "Epoch 19/50\n",
      "13/13 [==============================] - 15s 1s/step - loss: 0.1144 - accuracy: 0.9670 - val_loss: 0.5947 - val_accuracy: 0.7761\n",
      "Epoch 20/50\n",
      "13/13 [==============================] - 15s 1s/step - loss: 0.1173 - accuracy: 0.9677 - val_loss: 0.4413 - val_accuracy: 0.8060\n",
      "Epoch 21/50\n",
      "13/13 [==============================] - 17s 1s/step - loss: 0.1396 - accuracy: 0.9540 - val_loss: 0.3355 - val_accuracy: 0.8806\n",
      "Epoch 22/50\n",
      "13/13 [==============================] - 14s 1s/step - loss: 0.1477 - accuracy: 0.9773 - val_loss: 0.3502 - val_accuracy: 0.8358\n",
      "Epoch 23/50\n",
      "13/13 [==============================] - 17s 1s/step - loss: 0.1030 - accuracy: 0.9648 - val_loss: 0.4337 - val_accuracy: 0.7761\n",
      "Epoch 24/50\n",
      "13/13 [==============================] - 17s 1s/step - loss: 0.0930 - accuracy: 0.9694 - val_loss: 0.2859 - val_accuracy: 0.8955\n",
      "Epoch 25/50\n",
      "13/13 [==============================] - 17s 1s/step - loss: 0.0591 - accuracy: 0.9782 - val_loss: 0.3507 - val_accuracy: 0.8731\n",
      "Epoch 26/50\n",
      "13/13 [==============================] - 20s 1s/step - loss: 0.0833 - accuracy: 0.9707 - val_loss: 0.3153 - val_accuracy: 0.8731\n",
      "Epoch 27/50\n",
      "13/13 [==============================] - 18s 1s/step - loss: 0.1024 - accuracy: 0.9699 - val_loss: 0.3037 - val_accuracy: 0.8881\n",
      "Epoch 28/50\n",
      "13/13 [==============================] - 18s 1s/step - loss: 0.0633 - accuracy: 0.9765 - val_loss: 0.2477 - val_accuracy: 0.8881\n",
      "Epoch 29/50\n",
      "13/13 [==============================] - 20s 2s/step - loss: 0.0578 - accuracy: 0.9920 - val_loss: 0.3145 - val_accuracy: 0.9030\n",
      "Epoch 30/50\n",
      "13/13 [==============================] - 19s 1s/step - loss: 0.0701 - accuracy: 0.9801 - val_loss: 0.2876 - val_accuracy: 0.9030\n",
      "Epoch 31/50\n",
      "13/13 [==============================] - 17s 1s/step - loss: 0.0492 - accuracy: 0.9832 - val_loss: 0.3022 - val_accuracy: 0.8806\n",
      "Epoch 32/50\n",
      "13/13 [==============================] - 18s 1s/step - loss: 0.0449 - accuracy: 0.9870 - val_loss: 0.3004 - val_accuracy: 0.8731\n",
      "Epoch 33/50\n",
      "13/13 [==============================] - 17s 1s/step - loss: 0.0614 - accuracy: 0.9794 - val_loss: 0.2687 - val_accuracy: 0.9030\n",
      "Epoch 34/50\n",
      "13/13 [==============================] - 15s 1s/step - loss: 0.0947 - accuracy: 0.9724 - val_loss: 0.2934 - val_accuracy: 0.9030\n",
      "Epoch 35/50\n",
      "13/13 [==============================] - 15s 1s/step - loss: 0.0518 - accuracy: 0.9899 - val_loss: 0.3500 - val_accuracy: 0.8284\n",
      "Epoch 36/50\n",
      "13/13 [==============================] - 15s 1s/step - loss: 0.0395 - accuracy: 0.9907 - val_loss: 0.2961 - val_accuracy: 0.8657\n",
      "Epoch 37/50\n",
      "13/13 [==============================] - 15s 1s/step - loss: 0.0664 - accuracy: 0.9826 - val_loss: 0.2783 - val_accuracy: 0.9030\n",
      "Epoch 38/50\n",
      "13/13 [==============================] - 18s 1s/step - loss: 0.0653 - accuracy: 0.9789 - val_loss: 0.2938 - val_accuracy: 0.9030\n",
      "Epoch 39/50\n",
      "13/13 [==============================] - 17s 1s/step - loss: 0.0501 - accuracy: 0.9827 - val_loss: 0.2599 - val_accuracy: 0.9030\n",
      "Epoch 40/50\n",
      "13/13 [==============================] - 18s 1s/step - loss: 0.0491 - accuracy: 0.9858 - val_loss: 0.3375 - val_accuracy: 0.8881\n",
      "Epoch 41/50\n",
      "13/13 [==============================] - 18s 1s/step - loss: 0.0792 - accuracy: 0.9756 - val_loss: 0.2354 - val_accuracy: 0.9104\n",
      "Epoch 42/50\n",
      "13/13 [==============================] - 18s 1s/step - loss: 0.0428 - accuracy: 0.9884 - val_loss: 0.2956 - val_accuracy: 0.8731\n",
      "Epoch 43/50\n",
      "13/13 [==============================] - 18s 1s/step - loss: 0.0454 - accuracy: 0.9888 - val_loss: 0.2144 - val_accuracy: 0.9403\n",
      "Epoch 44/50\n",
      "13/13 [==============================] - 17s 1s/step - loss: 0.0381 - accuracy: 0.9866 - val_loss: 0.2338 - val_accuracy: 0.9328\n",
      "Epoch 45/50\n",
      "13/13 [==============================] - 17s 1s/step - loss: 0.0474 - accuracy: 0.9930 - val_loss: 0.2440 - val_accuracy: 0.9254\n",
      "Epoch 46/50\n",
      "13/13 [==============================] - 17s 1s/step - loss: 0.0246 - accuracy: 0.9943 - val_loss: 0.3441 - val_accuracy: 0.8806\n",
      "Epoch 47/50\n",
      "13/13 [==============================] - 17s 1s/step - loss: 0.0258 - accuracy: 0.9922 - val_loss: 0.2556 - val_accuracy: 0.9179\n",
      "Epoch 48/50\n",
      "13/13 [==============================] - 17s 1s/step - loss: 0.0355 - accuracy: 0.9902 - val_loss: 0.2710 - val_accuracy: 0.9179\n",
      "Epoch 49/50\n",
      "13/13 [==============================] - 17s 1s/step - loss: 0.0314 - accuracy: 0.9897 - val_loss: 0.2492 - val_accuracy: 0.9328\n",
      "Epoch 50/50\n",
      "13/13 [==============================] - 18s 1s/step - loss: 0.0559 - accuracy: 0.9877 - val_loss: 0.3327 - val_accuracy: 0.8955\n"
     ]
    }
   ],
   "source": [
    "r = model.fit_generator(\n",
    "  training_set,\n",
    "  validation_data=test_set,\n",
    "  epochs=50,\n",
    "  steps_per_epoch=len(training_set),\n",
    "  validation_steps=len(test_set)\n",
    ")"
   ]
  },
  {
   "cell_type": "code",
   "execution_count": 32,
   "metadata": {},
   "outputs": [
    {
     "data": {
      "image/png": "[encoded data removed]",
      "text/plain": [
       "<Figure size 432x288 with 1 Axes>"
      ]
     },
     "metadata": {
      "needs_background": "light"
     },
     "output_type": "display_data"
    },
    {
     "data": {
      "image/png": "[encoded data removed]",
      "text/plain": [
       "<Figure size 432x288 with 1 Axes>"
      ]
     },
     "metadata": {
      "needs_background": "light"
     },
     "output_type": "display_data"
    },
    {
     "data": {
      "text/plain": [
       "<Figure size 432x288 with 0 Axes>"
      ]
     },
     "metadata": {},
     "output_type": "display_data"
    }
   ],
   "source": [
    "# plot the loss\n",
    "plt.plot(r.history['loss'], label='train loss')\n",
    "plt.plot(r.history['val_loss'], label='val loss')\n",
    "plt.legend()\n",
    "plt.show()\n",
    "plt.savefig('LossVal_loss')\n",
    "\n",
    "# plot the accuracy\n",
    "plt.plot(r.history['accuracy'], label='train acc')\n",
    "plt.plot(r.history['val_accuracy'], label='val acc')\n",
    "plt.legend()\n",
    "plt.show()\n",
    "plt.savefig('AccVal_acc')"
   ]
  },
  {
   "cell_type": "code",
   "execution_count": 33,
   "metadata": {},
   "outputs": [],
   "source": [
    "# save it as a h5 file\n",
    "\n",
    "\n",
    "from tensorflow.keras.models import load_model\n",
    "\n",
    "model.save('model_vgg19.h5')"
   ]
  },
  {
   "cell_type": "code",
   "execution_count": 34,
   "metadata": {},
   "outputs": [],
   "source": [
    "y_pred = model.predict(test_set)\n"
   ]
  },
  {
   "cell_type": "code",
   "execution_count": 35,
   "metadata": {},
   "outputs": [
    {
     "data": {
      "text/plain": [
       "array([[8.71825933e-01, 1.28174052e-01],\n",
       "       [1.12438882e-02, 9.88756120e-01],\n",
       "       [1.00000000e+00, 9.53495061e-09],\n",
       "       [9.99988317e-01, 1.16278388e-05],\n",
       "       [1.00000000e+00, 5.76295989e-08],\n",
       "       [9.99896407e-01, 1.03551611e-04],\n",
       "       [3.24856728e-01, 6.75143301e-01],\n",
       "       [1.00000000e+00, 3.28540217e-08],\n",
       "       [6.61926940e-02, 9.33807313e-01],\n",
       "       [9.99685764e-01, 3.14246776e-04],\n",
       "       [9.98733938e-01, 1.26610918e-03],\n",
       "       [7.10443556e-01, 2.89556444e-01],\n",
       "       [4.49595012e-04, 9.99550402e-01],\n",
       "       [9.99979377e-01, 2.05770575e-05],\n",
       "       [9.99942303e-01, 5.76717757e-05],\n",
       "       [1.00000000e+00, 2.00579549e-12],\n",
       "       [7.32835591e-01, 2.67164439e-01],\n",
       "       [6.88167930e-01, 3.11832100e-01],\n",
       "       [2.96863783e-02, 9.70313668e-01],\n",
       "       [1.25627182e-02, 9.87437308e-01],\n",
       "       [9.99997973e-01, 2.07728272e-06],\n",
       "       [1.53068766e-01, 8.46931219e-01],\n",
       "       [1.00000000e+00, 3.33590031e-11],\n",
       "       [9.99981880e-01, 1.80807474e-05],\n",
       "       [9.99982953e-01, 1.70985059e-05],\n",
       "       [9.99999881e-01, 1.34401205e-07],\n",
       "       [1.07957693e-02, 9.89204228e-01],\n",
       "       [9.99892354e-01, 1.07592234e-04],\n",
       "       [2.20485091e-01, 7.79514909e-01],\n",
       "       [9.99983430e-01, 1.66288883e-05],\n",
       "       [1.00000000e+00, 9.35572279e-12],\n",
       "       [4.57726479e-01, 5.42273581e-01],\n",
       "       [9.90149856e-01, 9.85013973e-03],\n",
       "       [1.00000000e+00, 2.48296765e-11],\n",
       "       [4.48446870e-01, 5.51553130e-01],\n",
       "       [1.47543009e-02, 9.85245645e-01],\n",
       "       [9.99777615e-01, 2.22367788e-04],\n",
       "       [5.84533393e-01, 4.15466577e-01],\n",
       "       [9.99998927e-01, 1.11725183e-06],\n",
       "       [9.99941707e-01, 5.82465873e-05],\n",
       "       [9.99928951e-01, 7.10573368e-05],\n",
       "       [2.33358797e-03, 9.97666478e-01],\n",
       "       [1.00000000e+00, 1.25493444e-11],\n",
       "       [4.11632150e-01, 5.88367820e-01],\n",
       "       [7.28423774e-01, 2.71576315e-01],\n",
       "       [4.56093298e-03, 9.95439112e-01],\n",
       "       [1.00000000e+00, 5.01501995e-09],\n",
       "       [3.38455022e-04, 9.99661565e-01],\n",
       "       [3.13042365e-02, 9.68695760e-01],\n",
       "       [9.99995828e-01, 4.13035377e-06],\n",
       "       [7.19215274e-02, 9.28078473e-01],\n",
       "       [1.00000000e+00, 2.02261408e-09],\n",
       "       [3.15755531e-02, 9.68424499e-01],\n",
       "       [2.91893650e-02, 9.70810652e-01],\n",
       "       [6.46925298e-03, 9.93530810e-01],\n",
       "       [8.76461864e-01, 1.23538077e-01],\n",
       "       [9.99992490e-01, 7.56140435e-06],\n",
       "       [5.48751466e-03, 9.94512439e-01],\n",
       "       [1.39914779e-02, 9.86008584e-01],\n",
       "       [9.01277125e-01, 9.87228453e-02],\n",
       "       [1.00000000e+00, 4.48497133e-08],\n",
       "       [8.95555988e-02, 9.10444379e-01],\n",
       "       [9.99931216e-01, 6.88005239e-05],\n",
       "       [3.93746048e-02, 9.60625350e-01],\n",
       "       [9.99442756e-01, 5.57270017e-04],\n",
       "       [9.99999642e-01, 3.91858691e-07],\n",
       "       [9.99966979e-01, 3.30422372e-05],\n",
       "       [9.99965787e-01, 3.41566447e-05],\n",
       "       [9.99941468e-01, 5.85253110e-05],\n",
       "       [9.98981059e-01, 1.01895223e-03],\n",
       "       [9.99874473e-01, 1.25481238e-04],\n",
       "       [5.72446212e-02, 9.42755342e-01],\n",
       "       [1.16438922e-02, 9.88356054e-01],\n",
       "       [1.00000000e+00, 8.88519298e-17],\n",
       "       [8.14384401e-01, 1.85615644e-01],\n",
       "       [9.99932766e-01, 6.72495007e-05],\n",
       "       [1.24480315e-01, 8.75519693e-01],\n",
       "       [1.00000000e+00, 5.29222175e-20],\n",
       "       [1.00000000e+00, 3.85821918e-20],\n",
       "       [9.99841809e-01, 1.58107810e-04],\n",
       "       [9.99987125e-01, 1.29215487e-05],\n",
       "       [9.99936461e-01, 6.34926982e-05],\n",
       "       [9.99990940e-01, 9.09222490e-06],\n",
       "       [9.99981165e-01, 1.88491395e-05],\n",
       "       [2.12097261e-02, 9.78790343e-01],\n",
       "       [1.47974230e-02, 9.85202610e-01],\n",
       "       [9.99984503e-01, 1.55319849e-05],\n",
       "       [9.97347012e-02, 9.00265276e-01],\n",
       "       [2.44157791e-01, 7.55842268e-01],\n",
       "       [4.07479256e-01, 5.92520714e-01],\n",
       "       [1.00000000e+00, 2.23181121e-17],\n",
       "       [1.11449389e-02, 9.88855064e-01],\n",
       "       [7.13144183e-01, 2.86855817e-01],\n",
       "       [1.73937365e-01, 8.26062620e-01],\n",
       "       [8.26914981e-02, 9.17308450e-01],\n",
       "       [9.97126997e-01, 2.87304306e-03],\n",
       "       [9.99901652e-01, 9.83568025e-05],\n",
       "       [9.99999523e-01, 4.22382982e-07],\n",
       "       [1.00000000e+00, 1.78555326e-09],\n",
       "       [9.99971509e-01, 2.84802172e-05],\n",
       "       [1.00000000e+00, 2.35949177e-11],\n",
       "       [1.00267492e-02, 9.89973307e-01],\n",
       "       [9.99989867e-01, 1.01508022e-05],\n",
       "       [2.48965737e-03, 9.97510314e-01],\n",
       "       [4.45350595e-02, 9.55464959e-01],\n",
       "       [6.02781121e-03, 9.93972123e-01],\n",
       "       [4.39330302e-02, 9.56066966e-01],\n",
       "       [1.00000000e+00, 2.62808730e-09],\n",
       "       [2.02634651e-02, 9.79736507e-01],\n",
       "       [9.99999762e-01, 2.63029079e-07],\n",
       "       [9.99962807e-01, 3.72205541e-05],\n",
       "       [1.00000000e+00, 4.75176094e-08],\n",
       "       [3.53541747e-02, 9.64645803e-01],\n",
       "       [9.97770548e-01, 2.22943933e-03],\n",
       "       [1.00910291e-02, 9.89908934e-01],\n",
       "       [9.99931574e-01, 6.84709084e-05],\n",
       "       [4.75467518e-02, 9.52453256e-01],\n",
       "       [2.76377071e-02, 9.72362220e-01],\n",
       "       [9.99979734e-01, 2.02979045e-05],\n",
       "       [9.99999523e-01, 4.43947670e-07],\n",
       "       [9.99984860e-01, 1.51272152e-05],\n",
       "       [1.02673098e-01, 8.97326827e-01],\n",
       "       [9.58258331e-01, 4.17416617e-02],\n",
       "       [9.99971986e-01, 2.79948126e-05],\n",
       "       [3.65987197e-02, 9.63401318e-01],\n",
       "       [2.43715942e-01, 7.56284058e-01],\n",
       "       [1.49771571e-02, 9.85022843e-01],\n",
       "       [9.47460711e-01, 5.25393076e-02],\n",
       "       [9.99971628e-01, 2.83913796e-05],\n",
       "       [7.43146380e-03, 9.92568552e-01],\n",
       "       [1.00000000e+00, 5.48167215e-19],\n",
       "       [1.00000000e+00, 2.66181814e-08],\n",
       "       [4.95676212e-02, 9.50432360e-01],\n",
       "       [2.19741873e-02, 9.78025854e-01]], dtype=float32)"
      ]
     },
     "execution_count": 35,
     "metadata": {},
     "output_type": "execute_result"
    }
   ],
   "source": [
    "y_pred"
   ]
  },
  {
   "cell_type": "code",
   "execution_count": 36,
   "metadata": {},
   "outputs": [],
   "source": [
    "import numpy as np\n",
    "y_pred = np.argmax(y_pred, axis=1)"
   ]
  },
  {
   "cell_type": "code",
   "execution_count": 37,
   "metadata": {},
   "outputs": [
    {
     "data": {
      "text/plain": [
       "array([0, 1, 0, 0, 0, 0, 1, 0, 1, 0, 0, 0, 1, 0, 0, 0, 0, 0, 1, 1, 0, 1,\n",
       "       0, 0, 0, 0, 1, 0, 1, 0, 0, 1, 0, 0, 1, 1, 0, 0, 0, 0, 0, 1, 0, 1,\n",
       "       0, 1, 0, 1, 1, 0, 1, 0, 1, 1, 1, 0, 0, 1, 1, 0, 0, 1, 0, 1, 0, 0,\n",
       "       0, 0, 0, 0, 0, 1, 1, 0, 0, 0, 1, 0, 0, 0, 0, 0, 0, 0, 1, 1, 0, 1,\n",
       "       1, 1, 0, 1, 0, 1, 1, 0, 0, 0, 0, 0, 0, 1, 0, 1, 1, 1, 1, 0, 1, 0,\n",
       "       0, 0, 1, 0, 1, 0, 1, 1, 0, 0, 0, 1, 0, 0, 1, 1, 1, 0, 0, 1, 0, 0,\n",
       "       1, 1])"
      ]
     },
     "execution_count": 37,
     "metadata": {},
     "output_type": "execute_result"
    }
   ],
   "source": [
    "y_pred\n"
   ]
  },
  {
   "cell_type": "code",
   "execution_count": 38,
   "metadata": {},
   "outputs": [],
   "source": [
    "from tensorflow.keras.models import load_model\n",
    "from tensorflow.keras.preprocessing import image"
   ]
  },
  {
   "cell_type": "code",
   "execution_count": 39,
   "metadata": {},
   "outputs": [],
   "source": [
    "model=load_model('model_vgg19.h5')\n"
   ]
  },
  {
   "cell_type": "code",
   "execution_count": 40,
   "metadata": {},
   "outputs": [],
   "source": [
    "img=image.load_img('Dataset/Test/Uninfected/2.png',target_size=(224,224))\n"
   ]
  },
  {
   "cell_type": "code",
   "execution_count": 41,
   "metadata": {},
   "outputs": [
    {
     "data": {
      "text/plain": [
       "array([[[0., 0., 0.],\n",
       "        [0., 0., 0.],\n",
       "        [0., 0., 0.],\n",
       "        ...,\n",
       "        [0., 0., 0.],\n",
       "        [0., 0., 0.],\n",
       "        [0., 0., 0.]],\n",
       "\n",
       "       [[0., 0., 0.],\n",
       "        [0., 0., 0.],\n",
       "        [0., 0., 0.],\n",
       "        ...,\n",
       "        [0., 0., 0.],\n",
       "        [0., 0., 0.],\n",
       "        [0., 0., 0.]],\n",
       "\n",
       "       [[0., 0., 0.],\n",
       "        [0., 0., 0.],\n",
       "        [0., 0., 0.],\n",
       "        ...,\n",
       "        [0., 0., 0.],\n",
       "        [0., 0., 0.],\n",
       "        [0., 0., 0.]],\n",
       "\n",
       "       ...,\n",
       "\n",
       "       [[0., 0., 0.],\n",
       "        [0., 0., 0.],\n",
       "        [0., 0., 0.],\n",
       "        ...,\n",
       "        [0., 0., 0.],\n",
       "        [0., 0., 0.],\n",
       "        [0., 0., 0.]],\n",
       "\n",
       "       [[0., 0., 0.],\n",
       "        [0., 0., 0.],\n",
       "        [0., 0., 0.],\n",
       "        ...,\n",
       "        [0., 0., 0.],\n",
       "        [0., 0., 0.],\n",
       "        [0., 0., 0.]],\n",
       "\n",
       "       [[0., 0., 0.],\n",
       "        [0., 0., 0.],\n",
       "        [0., 0., 0.],\n",
       "        ...,\n",
       "        [0., 0., 0.],\n",
       "        [0., 0., 0.],\n",
       "        [0., 0., 0.]]], dtype=float32)"
      ]
     },
     "execution_count": 41,
     "metadata": {},
     "output_type": "execute_result"
    }
   ],
   "source": [
    "x=image.img_to_array(img)\n",
    "x"
   ]
  },
  {
   "cell_type": "code",
   "execution_count": 42,
   "metadata": {},
   "outputs": [
    {
     "data": {
      "text/plain": [
       "(224, 224, 3)"
      ]
     },
     "execution_count": 42,
     "metadata": {},
     "output_type": "execute_result"
    }
   ],
   "source": [
    "x.shape\n"
   ]
  },
  {
   "cell_type": "code",
   "execution_count": 43,
   "metadata": {},
   "outputs": [],
   "source": [
    "x=x/255\n"
   ]
  },
  {
   "cell_type": "code",
   "execution_count": 44,
   "metadata": {},
   "outputs": [
    {
     "data": {
      "text/plain": [
       "(1, 224, 224, 3)"
      ]
     },
     "execution_count": 44,
     "metadata": {},
     "output_type": "execute_result"
    }
   ],
   "source": [
    "x=np.expand_dims(x,axis=0)\n",
    "img_data=preprocess_input(x)\n",
    "img_data.shape"
   ]
  },
  {
   "cell_type": "code",
   "execution_count": 45,
   "metadata": {},
   "outputs": [
    {
     "data": {
      "text/plain": [
       "array([[0., 1.]], dtype=float32)"
      ]
     },
     "execution_count": 45,
     "metadata": {},
     "output_type": "execute_result"
    }
   ],
   "source": [
    "model.predict(img_data)\n"
   ]
  },
  {
   "cell_type": "code",
   "execution_count": 46,
   "metadata": {},
   "outputs": [],
   "source": [
    "a=np.argmax(model.predict(img_data), axis=1)\n"
   ]
  },
  {
   "cell_type": "code",
   "execution_count": 48,
   "metadata": {},
   "outputs": [
    {
     "name": "stdout",
     "output_type": "stream",
     "text": [
      "Uninfected\n"
     ]
    }
   ],
   "source": [
    "\n",
    "if(a==1):\n",
    "    print(\"Uninfected\")\n",
    "else:\n",
    "    print(\"Infected\")"
   ]
  },
  {
   "cell_type": "code",
   "execution_count": 49,
   "metadata": {},
   "outputs": [
    {
     "ename": "SyntaxError",
     "evalue": "invalid syntax (<ipython-input-49-28ce21bc39e0>, line 1)",
     "output_type": "error",
     "traceback": [
      "\u001b[0;36m  File \u001b[0;32m\"<ipython-input-49-28ce21bc39e0>\"\u001b[0;36m, line \u001b[0;32m1\u001b[0m\n\u001b[0;31m    git diff\u001b[0m\n\u001b[0m        ^\u001b[0m\n\u001b[0;31mSyntaxError\u001b[0m\u001b[0;31m:\u001b[0m invalid syntax\n"
     ]
    }
   ],
   "source": [
    "git diff"
   ]
  },
  {
   "cell_type": "code",
   "execution_count": null,
   "metadata": {},
   "outputs": [],
   "source": []
  }
 ],
 "metadata": {
  "kernelspec": {
   "display_name": "Python 3",
   "language": "python",
   "name": "python3"
  },
  "language_info": {
   "codemirror_mode": {
    "name": "ipython",
    "version": 3
   },
   "file_extension": ".py",
   "mimetype": "text/x-python",
   "name": "python",
   "nbconvert_exporter": "python",
   "pygments_lexer": "ipython3",
   "version": "3.8.5"
  }
 },
 "nbformat": 4,
 "nbformat_minor": 4
}
